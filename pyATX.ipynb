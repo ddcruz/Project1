{
 "cells": [
  {
   "cell_type": "code",
   "execution_count": 1,
   "metadata": {},
   "outputs": [],
   "source": [
    "#import dependencies\n",
    "from config import api_key\n",
    "import pandas as pd\n",
    "#from sodapy import Socrata\n",
    "from ipywidgets import interact, interactive\n",
    "import ipywidgets as widgets\n",
    "#from ipyleaflet import Map\n",
    "import requests \n",
    "#import matplotlib.pyplot as plt\n",
    "#import matplotlib.cm\n",
    "\n",
    "#from mpl_toolkits.basemap import Basemap\n",
    "#from mpl_toolkits.basemap import Basemap\n",
    "#from matplotlib.patches import Polygon\n",
    "#from matplotlib.collections import PatchCollection\n",
    "#from matplotlib.colors import Normalize\n",
    "\n",
    "#client = Socrata('data.transportation.gov', api_key)\n",
    "\n",
    "\n",
    "\n",
    "#results = client.get('38pg-dj5d', city1='Austin, TX')"
   ]
  },
  {
   "cell_type": "code",
   "execution_count": 25,
   "metadata": {},
   "outputs": [],
   "source": [
    "\"\"\"\n",
    "Function that gets a unique list of cities \n",
    "\n",
    "@param1: column: the name of the column\n",
    "\n",
    "returns: a list of unique cities\n",
    "\"\"\"\n",
    "def get_cities(column):\n",
    "    #return pd.read_csv('./resources/data/Consumer_Airfare_Report__Table_1a_-_All_U.S._Airport_Pair_Markets.csv')[column].sort_values().unique()\n",
    "    return pd.read_csv(f'./resources/data/{column}.csv')[column]"
   ]
  },
  {
   "cell_type": "code",
   "execution_count": 26,
   "metadata": {},
   "outputs": [
    {
     "data": {
      "text/plain": [
       "0                                 Albany, NY\n",
       "1                            Albuquerque, NM\n",
       "2             Allentown/Bethlehem/Easton, PA\n",
       "3                               Amarillo, TX\n",
       "4                              Asheville, NC\n",
       "5                                  Aspen, CO\n",
       "6            Atlanta, GA (Metropolitan Area)\n",
       "7                          Atlantic City, NJ\n",
       "8                                Augusta, GA\n",
       "9                                 Austin, TX\n",
       "10                                Bangor, ME\n",
       "11                           Baton Rouge, LA\n",
       "12                            Bellingham, WA\n",
       "13                          Bend/Redmond, OR\n",
       "14                              Billings, MT\n",
       "15                            Birmingham, AL\n",
       "16                       Bismarck/Mandan, ND\n",
       "17                    Bloomington/Normal, IL\n",
       "18                                 Boise, ID\n",
       "19            Boston, MA (Metropolitan Area)\n",
       "20                               Bozeman, MT\n",
       "21                               Buffalo, NY\n",
       "22                         Bullhead City, AZ\n",
       "23                            Burlington, VT\n",
       "24                Cedar Rapids/Iowa City, IA\n",
       "25                            Charleston, SC\n",
       "26                             Charlotte, NC\n",
       "27                           Chattanooga, TN\n",
       "28                               Chicago, IL\n",
       "29                            Cincinnati, OH\n",
       "                       ...                  \n",
       "100                          Panama City, FL\n",
       "101                            Pensacola, FL\n",
       "102                               Peoria, IL\n",
       "103                         Philadelphia, PA\n",
       "104                              Phoenix, AZ\n",
       "105                           Pittsburgh, PA\n",
       "106                             Portland, ME\n",
       "107                             Portland, OR\n",
       "108                       Raleigh/Durham, NC\n",
       "109                                 Reno, NV\n",
       "110                             Richmond, VA\n",
       "111                            Rochester, NY\n",
       "112                           Sacramento, CA\n",
       "113                       Salt Lake City, UT\n",
       "114                          San Antonio, TX\n",
       "115                            San Diego, CA\n",
       "116    San Francisco, CA (Metropolitan Area)\n",
       "117                   Sarasota/Bradenton, FL\n",
       "118                             Savannah, GA\n",
       "119                              Seattle, WA\n",
       "120                           South Bend, IN\n",
       "121                              Spokane, WA\n",
       "122                            St. Louis, MO\n",
       "123                             Syracuse, NY\n",
       "124                          Tallahassee, FL\n",
       "125            Tampa, FL (Metropolitan Area)\n",
       "126                               Tucson, AZ\n",
       "127                                Tulsa, OK\n",
       "128                           Valparaiso, FL\n",
       "129       Washington, DC (Metropolitan Area)\n",
       "Name: city1, Length: 130, dtype: object"
      ]
     },
     "execution_count": 26,
     "metadata": {},
     "output_type": "execute_result"
    }
   ],
   "source": [
    "get_cities('city1')"
   ]
  },
  {
   "cell_type": "code",
   "execution_count": 3,
   "metadata": {},
   "outputs": [],
   "source": [
    "#save the data to a csv since the original dataset it too large to save on github\n",
    "#pd.DataFrame(get_cities('city2')).rename(columns={0: 'city2'}).to_csv('./resources/data/city2.csv', index=False)"
   ]
  },
  {
   "cell_type": "code",
   "execution_count": 4,
   "metadata": {},
   "outputs": [],
   "source": [
    "\"\"\"\n",
    "Function that builds a dataframe based on input param values\n",
    "\n",
    "@param1: year\n",
    "@param2: city1: Typically Austin, TX\n",
    "@param3: data_request_type\n",
    "         0: for all records\n",
    "         1: Average fare and total passengers by year\n",
    "         2: List of carriers for the year\n",
    "         3: List of segments for the year\n",
    "\"\"\"\n",
    "def build_df(year, city1, data_request_type):#, city2):\n",
    "    try:\n",
    "        base_url = f'https://data.transportation.gov/resource/38pg-dj5d.json?$$app_token={api_key}'\n",
    "        params = {'city1': f'{city1}'\n",
    "                  , 'year': f'{year}'\n",
    "                  #, 'city2': f'{city2}'\n",
    "                 }\n",
    "\n",
    "        results = requests.get(base_url, params).json()\n",
    "        df = pd.DataFrame(results)\n",
    "        df['fare'] = pd.to_numeric(df['fare'])\n",
    "        df['passengers'] = pd.to_numeric(df['passengers'])\n",
    "        df['quarter'] = pd.to_numeric(df['quarter'])\n",
    "        df['year'] = pd.to_numeric(df['year'])\n",
    "        \n",
    "        df1 = df[['carrier_lg'\n",
    "                   #, 'carrier_low'\n",
    "                   , 'city1'\n",
    "                   , 'city2'\n",
    "                   , 'location_2'\n",
    "                   , 'fare'\n",
    "                   , 'passengers'\n",
    "                   , 'quarter'\n",
    "                   , 'year']].sort_values(['city2', 'year', 'quarter'])\n",
    "        if data_request_type == 0:\n",
    "            #All records\n",
    "            return df1\n",
    "        if data_request_type == 1:\n",
    "            #Average Fare and Total Passengers by Year\n",
    "            return df1.groupby(['year', 'city1', 'city2']).agg({'fare': 'mean', 'passengers': 'sum'}).reset_index()            \n",
    "        if data_request_type == 2:\n",
    "            #Unique list of carriers for the Year\n",
    "            return pd.DataFrame(df['carrier_lg'].sort_values().unique()).rename(columns={0: 'carrier_lg'})            \n",
    "        if data_request_type == 3:\n",
    "            #List of segments for the year\n",
    "            return pd.DataFrame(df['city2'].sort_values().unique()).rename(columns={0: 'city2'})\n",
    "    except KeyError:\n",
    "        print(\"Looks like there is no data for this city pair, try another\")"
   ]
  },
  {
   "cell_type": "code",
   "execution_count": 27,
   "metadata": {},
   "outputs": [
    {
     "data": {
      "application/vnd.jupyter.widget-view+json": {
       "model_id": "af8c07a12ceb4a5b9e7d86d8dfd6f10c",
       "version_major": 2,
       "version_minor": 0
      },
      "text/plain": [
       "interactive(children=(IntSlider(value=2012, description='year', max=2017, min=2007), Dropdown(description='cit…"
      ]
     },
     "metadata": {},
     "output_type": "display_data"
    },
    {
     "data": {
      "text/plain": [
       "<function __main__.build_df(year, city1, data_request_type)>"
      ]
     },
     "execution_count": 27,
     "metadata": {},
     "output_type": "execute_result"
    }
   ],
   "source": [
    "interact(build_df, year=(2007, 2017), city1=get_cities('city1')\n",
    "         , data_request_type={'All records': 0\n",
    "                              , 'Average fare and total passengers by year': 1\n",
    "                              , 'List of carriers for the year': 2\n",
    "                              , 'List of segments for the year': 3\n",
    "                             })\n"
   ]
  },
  {
   "cell_type": "code",
   "execution_count": null,
   "metadata": {},
   "outputs": [],
   "source": []
  }
 ],
 "metadata": {
  "kernelspec": {
   "display_name": "pythondata",
   "language": "python",
   "name": "pythondata"
  },
  "language_info": {
   "codemirror_mode": {
    "name": "ipython",
    "version": 3
   },
   "file_extension": ".py",
   "mimetype": "text/x-python",
   "name": "python",
   "nbconvert_exporter": "python",
   "pygments_lexer": "ipython3",
   "version": "3.6.7"
  }
 },
 "nbformat": 4,
 "nbformat_minor": 2
}
