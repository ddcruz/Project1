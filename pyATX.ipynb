{
 "cells": [
  {
   "cell_type": "code",
   "execution_count": 1,
   "metadata": {},
   "outputs": [],
   "source": [
    "#import dependencies\n",
    "from config import api_key\n",
    "import pandas as pd\n",
    "from ipywidgets import interact\n",
    "import ipywidgets as widgets\n",
    "import requests "
   ]
  },
  {
   "cell_type": "code",
   "execution_count": 2,
   "metadata": {},
   "outputs": [],
   "source": [
    "def get_data(year=2007, airport_1='AUS', data_request_type=0):\n",
    "    #load the data\n",
    "    df =  pd.read_csv('./resources/data/Consumer_Airfare_Report__Table_1a_-_All_U.S._Airport_Pair_Markets.csv')\n",
    "\n",
    "    #filter where the origin airport is Austin, TX for 2007 and above\n",
    "    df1 = df[(df['Year'] == year) &(df['airport_1'] == airport_1)]\n",
    "\n",
    "    #pull out the lat and log for the city pairs\n",
    "    pd.options.mode.chained_assignment = None\n",
    "    df1['city1_lat'] = pd.to_numeric(df1['Geocoded_City1'].str.split('\\n').str[1].str.split(',').str[0].str.replace('(', ''))\n",
    "    df1['city1_lng'] = pd.to_numeric(df1['Geocoded_City1'].str.split('\\n').str[1].str.split(',').str[1].str.replace(')', ''))\n",
    "    df1['city2_lat'] = pd.to_numeric(df1['Geocoded_City2'].str.split('\\n').str[1].str.split(',').str[0].str.replace('(', ''))\n",
    "    df1['city2_lng'] = pd.to_numeric(df1['Geocoded_City2'].str.split('\\n').str[1].str.split(',').str[1].str.replace(')', ''))\n",
    "    \n",
    "    \n",
    "    df2 = df1[['Year', 'quarter', 'city1', 'city2', 'airport_1', 'airport_2', 'nsmiles'\n",
    "         , 'passengers', 'fare', 'carrier_lg', 'city1_lat', 'city2_lat', 'city2_lat', 'city2_lng' ]]\n",
    "    \n",
    "    if data_request_type == 0:\n",
    "        #All records\n",
    "        return df2\n",
    "    if data_request_type == 1:\n",
    "        #Average Fare and Total Passengers by Year\n",
    "        return df2.groupby(['Year', 'city1', 'city2']).agg({'fare': 'mean', 'passengers': 'sum'}).reset_index()            \n",
    "    if data_request_type == 2:\n",
    "        #Unique list of carriers for the Year\n",
    "        return pd.DataFrame(df2['carrier_lg'].sort_values().unique()).rename(columns={0: 'carrier_lg'})            \n",
    "    if data_request_type == 3:\n",
    "        #List of segments for the year\n",
    "        return pd.DataFrame(df2['city2'].sort_values().unique()).rename(columns={0: 'city2'})"
   ]
  },
  {
   "cell_type": "code",
   "execution_count": 3,
   "metadata": {},
   "outputs": [],
   "source": [
    "#save the data to a csv since the original dataset it too large to save on github\n",
    "#pd.read_csv('./resources/data/Consumer_Airfare_Report__Table_1a_-_All_U.S._Airport_Pair_Markets.csv')[column].sort_values().unique()\n",
    "#pd.DataFrame(get_cities('city2')).rename(columns={0: 'city2'}).to_csv('./resources/data/city2.csv', index=False)"
   ]
  },
  {
   "cell_type": "code",
   "execution_count": 4,
   "metadata": {},
   "outputs": [],
   "source": [
    "\"\"\"\n",
    "Function that gets a unique list of cities \n",
    "\n",
    "@param1: column: the name of the column\n",
    "\n",
    "returns: a list of unique cities\n",
    "\"\"\"\n",
    "def get_cities(column):\n",
    "    return pd.read_csv(f'./resources/data/{column}.csv')[column]"
   ]
  },
  {
   "cell_type": "code",
   "execution_count": 5,
   "metadata": {},
   "outputs": [],
   "source": [
    "\"\"\"\n",
    "Function that builds a dataframe based on input param values\n",
    "\n",
    "@param1: year\n",
    "@param2: city1: Typically Austin, TX\n",
    "@param3: data_request_type\n",
    "         0: for all records\n",
    "         1: Average fare and total passengers by year\n",
    "         2: List of carriers for the year\n",
    "         3: List of segments for the year\n",
    "\"\"\"\n",
    "def build_df(year, city1, data_request_type):#, city2):\n",
    "    try:\n",
    "        base_url = f'https://data.transportation.gov/resource/38pg-dj5d.json?$$app_token={api_key}'\n",
    "        params = {'city1': f'{city1}'\n",
    "                  , 'year': f'{year}'\n",
    "                  #, 'city2': f'{city2}'\n",
    "                 }\n",
    "\n",
    "        results = requests.get(base_url, params).json()\n",
    "        df = pd.DataFrame(results)\n",
    "        df['fare'] = pd.to_numeric(df['fare'])\n",
    "        df['passengers'] = pd.to_numeric(df['passengers'])\n",
    "        df['quarter'] = pd.to_numeric(df['quarter'])\n",
    "        df['year'] = pd.to_numeric(df['year'])\n",
    "        \n",
    "        df1 = df[['carrier_lg'\n",
    "                   #, 'carrier_low'\n",
    "                   , 'city1'\n",
    "                   , 'city2'\n",
    "                   , 'location_2'\n",
    "                   , 'fare'\n",
    "                   , 'passengers'\n",
    "                   , 'quarter'\n",
    "                   , 'year']].sort_values(['city2', 'year', 'quarter'])\n",
    "        if data_request_type == 0:\n",
    "            #All records\n",
    "            return df1\n",
    "        if data_request_type == 1:\n",
    "            #Average Fare and Total Passengers by Year\n",
    "            return df1.groupby(['year', 'city1', 'city2']).agg({'fare': 'mean', 'passengers': 'sum'}).reset_index()            \n",
    "        if data_request_type == 2:\n",
    "            #Unique list of carriers for the Year\n",
    "            return pd.DataFrame(df['carrier_lg'].sort_values().unique()).rename(columns={0: 'carrier_lg'})            \n",
    "        if data_request_type == 3:\n",
    "            #List of segments for the year\n",
    "            return pd.DataFrame(df['city2'].sort_values().unique()).rename(columns={0: 'city2'})\n",
    "    except KeyError:\n",
    "        print(\"Looks like there is no data for this city pair, try another\")"
   ]
  },
  {
   "cell_type": "code",
   "execution_count": 6,
   "metadata": {},
   "outputs": [
    {
     "data": {
      "application/vnd.jupyter.widget-view+json": {
       "model_id": "616023c0519649118f5144a1eae53d48",
       "version_major": 2,
       "version_minor": 0
      },
      "text/plain": [
       "interactive(children=(IntSlider(value=2012, description='year', max=2017, min=2007), Dropdown(description='cit…"
      ]
     },
     "metadata": {},
     "output_type": "display_data"
    },
    {
     "data": {
      "text/plain": [
       "<function __main__.build_df(year, city1, data_request_type)>"
      ]
     },
     "execution_count": 6,
     "metadata": {},
     "output_type": "execute_result"
    }
   ],
   "source": [
    "interact(build_df, year=(2007, 2017), city1=get_cities('city1')\n",
    "         , data_request_type={'All records': 0\n",
    "                              , 'Average fare and total passengers by year': 1\n",
    "                              , 'List of carriers for the year': 2\n",
    "                              , 'List of segments for the year': 3\n",
    "                             })\n"
   ]
  },
  {
   "cell_type": "code",
   "execution_count": 7,
   "metadata": {},
   "outputs": [
    {
     "data": {
      "application/vnd.jupyter.widget-view+json": {
       "model_id": "f3fb31c99b624cee88567c253676fbe5",
       "version_major": 2,
       "version_minor": 0
      },
      "text/plain": [
       "interactive(children=(IntSlider(value=2007, description='year', max=2017, min=1997), Text(value='AUS', descrip…"
      ]
     },
     "metadata": {},
     "output_type": "display_data"
    },
    {
     "data": {
      "text/plain": [
       "<function __main__.get_data(year=2007, airport_1='AUS', data_request_type=0)>"
      ]
     },
     "execution_count": 7,
     "metadata": {},
     "output_type": "execute_result"
    }
   ],
   "source": [
    "interact(get_data, year=(1997, 2017), airport_1='AUS'\n",
    "         , data_request_type={'All records': 0\n",
    "                              , 'Average fare and total passengers by year': 1\n",
    "                              , 'List of carriers for the year': 2\n",
    "                              , 'List of segments for the year': 3\n",
    "                             })"
   ]
  },
  {
   "cell_type": "code",
   "execution_count": null,
   "metadata": {},
   "outputs": [],
   "source": []
  }
 ],
 "metadata": {
  "kernelspec": {
   "display_name": "pythondata",
   "language": "python",
   "name": "pythondata"
  },
  "language_info": {
   "codemirror_mode": {
    "name": "ipython",
    "version": 3
   },
   "file_extension": ".py",
   "mimetype": "text/x-python",
   "name": "python",
   "nbconvert_exporter": "python",
   "pygments_lexer": "ipython3",
   "version": "3.6.7"
  }
 },
 "nbformat": 4,
 "nbformat_minor": 2
}
