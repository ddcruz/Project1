{
 "cells": [
  {
   "cell_type": "code",
   "execution_count": 1,
   "metadata": {},
   "outputs": [],
   "source": [
    "#import dependencies\n",
    "#from config import api_key\n",
    "import pandas as pd\n",
    "#from sodapy import Socrata\n",
    "from ipywidgets import interact, interactive\n",
    "import ipywidgets as widgets\n",
    "#from ipyleaflet import Map\n",
    "import requests \n",
    "#import matplotlib.pyplot as plt\n",
    "#import matplotlib.cm\n",
    "import folium\n",
    "\n",
    "#from mpl_toolkits.basemap import Basemap\n",
    "#from mpl_toolkits.basemap import Basemap\n",
    "#from matplotlib.patches import Polygon\n",
    "#from matplotlib.collections import PatchCollection\n",
    "#from matplotlib.colors import Normalize\n",
    "\n",
    "#client = Socrata('data.transportation.gov', api_key)\n",
    "\n",
    "#results = client.get('38pg-dj5d', city1='Austin, TX')"
   ]
  },
  {
   "cell_type": "code",
   "execution_count": 2,
   "metadata": {},
   "outputs": [],
   "source": [
    "def get_data(year=2007, airport_1='AUS', data_request_type=0):\n",
    "    #load the data\n",
    "    df =  pd.read_csv('./resources/data/Consumer_Airfare_Report__Table_1a_-_All_U.S._Airport_Pair_Markets.csv')\n",
    "\n",
    "    #filter where the origin airport is Austin, TX for 2007 and above\n",
    "    df1 = df[(df['Year'] == year) &(df['airport_1'] == airport_1)]\n",
    "\n",
    "    #pull out the lat and log for the city pairs\n",
    "    pd.options.mode.chained_assignment = None\n",
    "    df1['city1_lat'] = pd.to_numeric(df1['Geocoded_City1'].str.split('\\n').str[1].str.split(',').str[0].str.replace('(', ''))\n",
    "    df1['city1_lng'] = pd.to_numeric(df1['Geocoded_City1'].str.split('\\n').str[1].str.split(',').str[1].str.replace(')', ''))\n",
    "    df1['city2_lat'] = pd.to_numeric(df1['Geocoded_City2'].str.split('\\n').str[1].str.split(',').str[0].str.replace('(', ''))\n",
    "    df1['city2_lng'] = pd.to_numeric(df1['Geocoded_City2'].str.split('\\n').str[1].str.split(',').str[1].str.replace(')', ''))\n",
    "    \n",
    "    \n",
    "    df2 = df1[['Year', 'quarter', 'city1', 'city2', 'airport_1', 'airport_2', 'nsmiles'\n",
    "         , 'passengers', 'fare', 'carrier_lg', 'city1_lat', 'city2_lat', 'city2_lat', 'city2_lng' ]]\n",
    "    \n",
    "    if data_request_type == 0:\n",
    "        #All records\n",
    "        return df2\n",
    "    if data_request_type == 1:\n",
    "        #Average Fare and Total Passengers by Year\n",
    "        return df2.groupby(['Year', 'city1', 'city2']).agg({'fare': 'mean', 'passengers': 'sum'}).reset_index()            \n",
    "    if data_request_type == 2:\n",
    "        #Unique list of carriers for the Year\n",
    "        return pd.DataFrame(df2['carrier_lg'].sort_values().unique()).rename(columns={0: 'carrier_lg'})            \n",
    "    if data_request_type == 3:\n",
    "        #List of segments for the year\n",
    "        return pd.DataFrame(df2['city2'].sort_values().unique()).rename(columns={0: 'city2'})"
   ]
  },
  {
   "cell_type": "code",
   "execution_count": 3,
   "metadata": {},
   "outputs": [],
   "source": [
    "\"\"\"\n",
    "Function that gets a unique list of cities \n",
    "\n",
    "@param1: column: the name of the column\n",
    "\n",
    "returns: a list of unique cities\n",
    "\"\"\"\n",
    "def get_cities(column):\n",
    "    #return pd.read_csv('./resources/data/Consumer_Airfare_Report__Table_1a_-_All_U.S._Airport_Pair_Markets.csv')[column].sort_values().unique()\n",
    "    return pd.read_csv(f'./resources/data/{column}.csv')[column]"
   ]
  },
  {
   "cell_type": "code",
   "execution_count": 4,
   "metadata": {},
   "outputs": [],
   "source": [
    "#save the data to a csv since the original dataset it too large to save on github\n",
    "#pd.DataFrame(get_cities('city2')).rename(columns={0: 'city2'}).to_csv('./resources/data/city2.csv', index=False)"
   ]
  },
  {
   "cell_type": "code",
   "execution_count": 5,
   "metadata": {},
   "outputs": [],
   "source": [
    "\"\"\"\n",
    "Function that builds a dataframe based on input param values\n",
    "\n",
    "@param1: year\n",
    "@param2: city1: Typically Austin, TX\n",
    "@param3: data_request_type\n",
    "         0: for all records\n",
    "         1: Average fare and total passengers by year\n",
    "         2: List of carriers for the year\n",
    "         3: List of segments for the year\n",
    "\"\"\"\n",
    "def build_df(year, city1, data_request_type):#, city2):\n",
    "    try:\n",
    "        base_url = f'https://data.transportation.gov/resource/38pg-dj5d.json?$$app_token={api_key}'\n",
    "        params = {'city1': f'{city1}'\n",
    "                  , 'year': f'{year}'\n",
    "                  #, 'city2': f'{city2}'\n",
    "                 }\n",
    "\n",
    "        results = requests.get(base_url, params).json()\n",
    "        df = pd.DataFrame(results)\n",
    "        df['fare'] = pd.to_numeric(df['fare'])\n",
    "        df['passengers'] = pd.to_numeric(df['passengers'])\n",
    "        df['quarter'] = pd.to_numeric(df['quarter'])\n",
    "        df['year'] = pd.to_numeric(df['year'])\n",
    "        \n",
    "        df1 = df[['carrier_lg'\n",
    "                   #, 'carrier_low'\n",
    "                   , 'city1'\n",
    "                   , 'city2'\n",
    "                   , 'location_2'\n",
    "                   , 'fare'\n",
    "                   , 'passengers'\n",
    "                   , 'quarter'\n",
    "                   , 'year']].sort_values(['city2', 'year', 'quarter'])\n",
    "        if data_request_type == 0:\n",
    "            #All records\n",
    "            return df1\n",
    "        if data_request_type == 1:\n",
    "            #Average Fare and Total Passengers by Year\n",
    "            return df1.groupby(['year', 'city1', 'city2']).agg({'fare': 'mean', 'passengers': 'sum'}).reset_index()            \n",
    "        if data_request_type == 2:\n",
    "            #Unique list of carriers for the Year\n",
    "            return pd.DataFrame(df['carrier_lg'].sort_values().unique()).rename(columns={0: 'carrier_lg'})            \n",
    "        if data_request_type == 3:\n",
    "            #List of segments for the year\n",
    "            return pd.DataFrame(df['city2'].sort_values().unique()).rename(columns={0: 'city2'})\n",
    "    except KeyError:\n",
    "        print(\"Looks like there is no data for this city pair, try another\")"
   ]
  },
  {
   "cell_type": "code",
   "execution_count": 6,
   "metadata": {},
   "outputs": [
    {
     "data": {
      "application/vnd.jupyter.widget-view+json": {
       "model_id": "a6d1bb717d4f442fa080c0b338396392",
       "version_major": 2,
       "version_minor": 0
      },
      "text/plain": [
       "interactive(children=(IntSlider(value=2012, description='year', max=2017, min=2007), Dropdown(description='cit…"
      ]
     },
     "metadata": {},
     "output_type": "display_data"
    },
    {
     "data": {
      "text/plain": [
       "<function __main__.build_df(year, city1, data_request_type)>"
      ]
     },
     "execution_count": 6,
     "metadata": {},
     "output_type": "execute_result"
    }
   ],
   "source": [
    "interact(build_df, year=(2007, 2017), city1=get_cities('city1')\n",
    "         , data_request_type={'All records': 0\n",
    "                              , 'Average fare and total passengers by year': 1\n",
    "                              , 'List of carriers for the year': 2\n",
    "                              , 'List of segments for the year': 3\n",
    "                             })\n"
   ]
  },
  {
   "cell_type": "code",
   "execution_count": 7,
   "metadata": {},
   "outputs": [
    {
     "data": {
      "application/vnd.jupyter.widget-view+json": {
       "model_id": "16dd1f5a7e5a4772a85be922b7d23d1f",
       "version_major": 2,
       "version_minor": 0
      },
      "text/plain": [
       "interactive(children=(IntSlider(value=2007, description='year', max=2017, min=1997), Text(value='AUS', descrip…"
      ]
     },
     "metadata": {},
     "output_type": "display_data"
    },
    {
     "data": {
      "text/plain": [
       "<function __main__.get_data(year=2007, airport_1='AUS', data_request_type=0)>"
      ]
     },
     "execution_count": 7,
     "metadata": {},
     "output_type": "execute_result"
    }
   ],
   "source": [
    "interact(get_data, year=(1997, 2017), airport_1='AUS'\n",
    "         , data_request_type={'All records': 0\n",
    "                              , 'Average fare and total passengers by year': 1\n",
    "                              , 'List of carriers for the year': 2\n",
    "                              , 'List of segments for the year': 3\n",
    "                             })"
   ]
  },
  {
   "cell_type": "code",
   "execution_count": 8,
   "metadata": {},
   "outputs": [
    {
     "data": {
      "text/html": [
       "<div style=\"width:100%;\"><div style=\"position:relative;width:100%;height:0;padding-bottom:60%;\"><iframe src=\"data:text/html;charset=utf-8;base64,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\" style=\"position:absolute;width:100%;height:100%;left:0;top:0;border:none !important;\" allowfullscreen webkitallowfullscreen mozallowfullscreen></iframe></div></div>"
      ],
      "text/plain": [
       "<folium.folium.Map at 0x113e33320>"
      ]
     },
     "execution_count": 8,
     "metadata": {},
     "output_type": "execute_result"
    }
   ],
   "source": [
    "folium_map = folium.Map(location=[30.266926, -97.750519],\n",
    "                        zoom_start=5,\n",
    "                        tiles=\"CartoDB dark_matter\")\n",
    "\n",
    "folium.CircleMarker(location=[30.266926, -97.750519],fill=True).add_to(folium_map)\n",
    "folium_map"
   ]
  },
  {
   "cell_type": "code",
   "execution_count": 9,
   "metadata": {},
   "outputs": [
    {
     "ename": "IndentationError",
     "evalue": "unindent does not match any outer indentation level (<ipython-input-9-bf0053dce38b>, line 8)",
     "output_type": "error",
     "traceback": [
      "\u001b[0;36m  File \u001b[0;32m\"<ipython-input-9-bf0053dce38b>\"\u001b[0;36m, line \u001b[0;32m8\u001b[0m\n\u001b[0;31m    for index, row in trip_counts.iterrows():\u001b[0m\n\u001b[0m                                             ^\u001b[0m\n\u001b[0;31mIndentationError\u001b[0m\u001b[0;31m:\u001b[0m unindent does not match any outer indentation level\n"
     ]
    }
   ],
   "source": [
    "def get_passenger_count_by_destination():\n",
    "     folium_map = folium.Map(location=[30.266926, -97.750519],\n",
    "                            zoom_start=5,\n",
    "                            tiles=\"CartoDB dark_matter\",\n",
    "                            width='50%')\n",
    "\n",
    "    # for each row in the data, add a cicle marker\n",
    "    for index, row in trip_counts.iterrows():\n",
    "        # calculate net departures\n",
    "        net_departures = (row[\"Departure Count\"]-row[\"Arrival Count\"])\n",
    "        \n",
    "        # generate the popup message that is shown on click.\n",
    "        popup_text = \"{}<br> total departures: {}<br> total arrivals: {}<br> net departures: {}\"\n",
    "        popup_text = popup_text.format(row[\"Start Station Name\"],\n",
    "                          row[\"Arrival Count\"],\n",
    "                          row[\"Departure Count\"],\n",
    "                          net_departures)\n",
    "        \n",
    "        # radius of circles\n",
    "        radius = net_departures/20\n",
    "        \n",
    "        # choose the color of the marker\n",
    "        if net_departures>0:\n",
    "            # color=\"#FFCE00\" # orange\n",
    "            # color=\"#007849\" # green\n",
    "            color=\"#E37222\" # tangerine\n",
    "        else:\n",
    "            # color=\"#0375B4\" # blue\n",
    "            # color=\"#FFCE00\" # yellow            \n",
    "            color=\"#0A8A9F\" # teal\n",
    "        \n",
    "        # add marker to the map\n",
    "        folium.CircleMarker(location=(row[\"Start Station Latitude\"],\n",
    "                                      row[\"Start Station Longitude\"]),\n",
    "                            radius=radius,\n",
    "                            color=color,\n",
    "                            popup=popup_text,\n",
    "                            fill=True).add_to(folium_map)\n",
    "    return folium_map"
   ]
  },
  {
   "cell_type": "code",
   "execution_count": null,
   "metadata": {},
   "outputs": [],
   "source": []
  }
 ],
 "metadata": {
  "kernelspec": {
   "display_name": "Python 3",
   "language": "python",
   "name": "python3"
  },
  "language_info": {
   "codemirror_mode": {
    "name": "ipython",
    "version": 3
   },
   "file_extension": ".py",
   "mimetype": "text/x-python",
   "name": "python",
   "nbconvert_exporter": "python",
   "pygments_lexer": "ipython3",
   "version": "3.7.0"
  }
 },
 "nbformat": 4,
 "nbformat_minor": 2
}
